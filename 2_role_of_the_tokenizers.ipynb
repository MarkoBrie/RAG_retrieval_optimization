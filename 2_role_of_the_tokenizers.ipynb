{
 "cells": [
  {
   "cell_type": "markdown",
   "id": "56bb3b2c-faeb-41ec-8499-508a8bc71b76",
   "metadata": {},
   "source": [
    "# L2: Role of the Tokenizers"
   ]
  },
  {
   "cell_type": "markdown",
   "id": "ac6cbd87-6442-4179-9ce9-b096cc37d137",
   "metadata": {},
   "source": [
    "<p style=\"background-color:#fff6e4; padding:15px; border-width:3px; border-color:#f5ecda; border-style:solid; border-radius:6px\"> ⏳ <b>Note <code>(Kernel Starting)</code>:</b> This notebook takes about 30 seconds to be ready to use. You may start and watch the video while you wait.</p>"
   ]
  },
  {
   "cell_type": "code",
   "execution_count": 2,
   "id": "8262ecbb",
   "metadata": {},
   "outputs": [
    {
     "name": "stdout",
     "output_type": "stream",
     "text": [
      "Looking in indexes: https://pypi.org/simple, https://download.pytorch.org/whl/cpu\n",
      "Requirement already satisfied: python-dotenv==1.0.1 in /home/codespace/.local/lib/python3.12/site-packages (from -r requirements.txt (line 10)) (1.0.1)\n",
      "Requirement already satisfied: jupyter==1.0.0 in /home/codespace/.local/lib/python3.12/site-packages (from -r requirements.txt (line 11)) (1.0.0)\n",
      "Requirement already satisfied: tokenizers==0.19.1 in /home/codespace/.local/lib/python3.12/site-packages (from -r requirements.txt (line 12)) (0.19.1)\n",
      "Requirement already satisfied: transformers==4.40.2 in /home/codespace/.local/lib/python3.12/site-packages (from -r requirements.txt (line 13)) (4.40.2)\n",
      "Requirement already satisfied: sentence-transformers==2.7.0 in /home/codespace/.local/lib/python3.12/site-packages (from -r requirements.txt (line 14)) (2.7.0)\n",
      "Requirement already satisfied: torch==2.3.0 in /home/codespace/.local/lib/python3.12/site-packages (from -r requirements.txt (line 15)) (2.3.0+cpu)\n",
      "Requirement already satisfied: scikit-learn==1.4.1.post1 in /home/codespace/.local/lib/python3.12/site-packages (from -r requirements.txt (line 16)) (1.4.1.post1)\n",
      "Requirement already satisfied: qdrant-client==1.9.1 in /home/codespace/.local/lib/python3.12/site-packages (from -r requirements.txt (line 17)) (1.9.1)\n",
      "Requirement already satisfied: plotly==5.21.0 in /home/codespace/.local/lib/python3.12/site-packages (from -r requirements.txt (line 18)) (5.21.0)\n",
      "Requirement already satisfied: tiktoken==0.7.0 in /home/codespace/.local/lib/python3.12/site-packages (from -r requirements.txt (line 19)) (0.7.0)\n",
      "Requirement already satisfied: openai==1.30.1 in /home/codespace/.local/lib/python3.12/site-packages (from -r requirements.txt (line 20)) (1.30.1)\n",
      "Requirement already satisfied: pandas==2.2.2 in /home/codespace/.local/lib/python3.12/site-packages (from -r requirements.txt (line 21)) (2.2.2)\n",
      "Requirement already satisfied: real-wordpiece==0.1.6 in /home/codespace/.local/lib/python3.12/site-packages (from -r requirements.txt (line 22)) (0.1.6)\n",
      "Requirement already satisfied: ranx==0.3.19 in /home/codespace/.local/lib/python3.12/site-packages (from -r requirements.txt (line 23)) (0.3.19)\n",
      "Requirement already satisfied: notebook in /home/codespace/.local/lib/python3.12/site-packages (from jupyter==1.0.0->-r requirements.txt (line 11)) (7.2.2)\n",
      "Requirement already satisfied: qtconsole in /home/codespace/.local/lib/python3.12/site-packages (from jupyter==1.0.0->-r requirements.txt (line 11)) (5.6.0)\n",
      "Requirement already satisfied: jupyter-console in /home/codespace/.local/lib/python3.12/site-packages (from jupyter==1.0.0->-r requirements.txt (line 11)) (6.6.3)\n",
      "Requirement already satisfied: nbconvert in /home/codespace/.local/lib/python3.12/site-packages (from jupyter==1.0.0->-r requirements.txt (line 11)) (7.16.4)\n",
      "Requirement already satisfied: ipykernel in /home/codespace/.local/lib/python3.12/site-packages (from jupyter==1.0.0->-r requirements.txt (line 11)) (6.29.5)\n",
      "Requirement already satisfied: ipywidgets in /home/codespace/.local/lib/python3.12/site-packages (from jupyter==1.0.0->-r requirements.txt (line 11)) (8.1.5)\n",
      "Requirement already satisfied: huggingface-hub<1.0,>=0.16.4 in /home/codespace/.local/lib/python3.12/site-packages (from tokenizers==0.19.1->-r requirements.txt (line 12)) (0.25.1)\n",
      "Requirement already satisfied: filelock in /home/codespace/.local/lib/python3.12/site-packages (from transformers==4.40.2->-r requirements.txt (line 13)) (3.16.1)\n",
      "Requirement already satisfied: numpy>=1.17 in /home/codespace/.local/lib/python3.12/site-packages (from transformers==4.40.2->-r requirements.txt (line 13)) (1.26.4)\n",
      "Requirement already satisfied: packaging>=20.0 in /home/codespace/.local/lib/python3.12/site-packages (from transformers==4.40.2->-r requirements.txt (line 13)) (24.1)\n",
      "Requirement already satisfied: pyyaml>=5.1 in /home/codespace/.local/lib/python3.12/site-packages (from transformers==4.40.2->-r requirements.txt (line 13)) (6.0.2)\n",
      "Requirement already satisfied: regex!=2019.12.17 in /home/codespace/.local/lib/python3.12/site-packages (from transformers==4.40.2->-r requirements.txt (line 13)) (2024.9.11)\n",
      "Requirement already satisfied: requests in /home/codespace/.local/lib/python3.12/site-packages (from transformers==4.40.2->-r requirements.txt (line 13)) (2.32.3)\n",
      "Requirement already satisfied: safetensors>=0.4.1 in /home/codespace/.local/lib/python3.12/site-packages (from transformers==4.40.2->-r requirements.txt (line 13)) (0.4.5)\n",
      "Requirement already satisfied: tqdm>=4.27 in /home/codespace/.local/lib/python3.12/site-packages (from transformers==4.40.2->-r requirements.txt (line 13)) (4.66.5)\n",
      "Requirement already satisfied: scipy in /home/codespace/.local/lib/python3.12/site-packages (from sentence-transformers==2.7.0->-r requirements.txt (line 14)) (1.14.1)\n",
      "Requirement already satisfied: Pillow in /home/codespace/.local/lib/python3.12/site-packages (from sentence-transformers==2.7.0->-r requirements.txt (line 14)) (10.4.0)\n",
      "Requirement already satisfied: typing-extensions>=4.8.0 in /home/codespace/.local/lib/python3.12/site-packages (from torch==2.3.0->-r requirements.txt (line 15)) (4.12.2)\n",
      "Requirement already satisfied: sympy in /home/codespace/.local/lib/python3.12/site-packages (from torch==2.3.0->-r requirements.txt (line 15)) (1.13.3)\n",
      "Requirement already satisfied: networkx in /home/codespace/.local/lib/python3.12/site-packages (from torch==2.3.0->-r requirements.txt (line 15)) (3.3)\n",
      "Requirement already satisfied: jinja2 in /home/codespace/.local/lib/python3.12/site-packages (from torch==2.3.0->-r requirements.txt (line 15)) (3.1.4)\n",
      "Requirement already satisfied: fsspec in /home/codespace/.local/lib/python3.12/site-packages (from torch==2.3.0->-r requirements.txt (line 15)) (2024.9.0)\n",
      "Requirement already satisfied: joblib>=1.2.0 in /home/codespace/.local/lib/python3.12/site-packages (from scikit-learn==1.4.1.post1->-r requirements.txt (line 16)) (1.4.2)\n",
      "Requirement already satisfied: threadpoolctl>=2.0.0 in /home/codespace/.local/lib/python3.12/site-packages (from scikit-learn==1.4.1.post1->-r requirements.txt (line 16)) (3.5.0)\n",
      "Requirement already satisfied: grpcio>=1.41.0 in /home/codespace/.local/lib/python3.12/site-packages (from qdrant-client==1.9.1->-r requirements.txt (line 17)) (1.66.2)\n",
      "Requirement already satisfied: grpcio-tools>=1.41.0 in /home/codespace/.local/lib/python3.12/site-packages (from qdrant-client==1.9.1->-r requirements.txt (line 17)) (1.66.2)\n",
      "Requirement already satisfied: httpx>=0.20.0 in /home/codespace/.local/lib/python3.12/site-packages (from httpx[http2]>=0.20.0->qdrant-client==1.9.1->-r requirements.txt (line 17)) (0.27.2)\n",
      "Requirement already satisfied: portalocker<3.0.0,>=2.7.0 in /home/codespace/.local/lib/python3.12/site-packages (from qdrant-client==1.9.1->-r requirements.txt (line 17)) (2.10.1)\n",
      "Requirement already satisfied: pydantic>=1.10.8 in /home/codespace/.local/lib/python3.12/site-packages (from qdrant-client==1.9.1->-r requirements.txt (line 17)) (2.9.2)\n",
      "Requirement already satisfied: urllib3<3,>=1.26.14 in /home/codespace/.local/lib/python3.12/site-packages (from qdrant-client==1.9.1->-r requirements.txt (line 17)) (2.2.3)\n",
      "Requirement already satisfied: tenacity>=6.2.0 in /home/codespace/.local/lib/python3.12/site-packages (from plotly==5.21.0->-r requirements.txt (line 18)) (9.0.0)\n",
      "Requirement already satisfied: anyio<5,>=3.5.0 in /home/codespace/.local/lib/python3.12/site-packages (from openai==1.30.1->-r requirements.txt (line 20)) (4.6.0)\n",
      "Requirement already satisfied: distro<2,>=1.7.0 in /home/codespace/.local/lib/python3.12/site-packages (from openai==1.30.1->-r requirements.txt (line 20)) (1.9.0)\n",
      "Requirement already satisfied: sniffio in /home/codespace/.local/lib/python3.12/site-packages (from openai==1.30.1->-r requirements.txt (line 20)) (1.3.1)\n",
      "Requirement already satisfied: python-dateutil>=2.8.2 in /home/codespace/.local/lib/python3.12/site-packages (from pandas==2.2.2->-r requirements.txt (line 21)) (2.9.0.post0)\n",
      "Requirement already satisfied: pytz>=2020.1 in /home/codespace/.local/lib/python3.12/site-packages (from pandas==2.2.2->-r requirements.txt (line 21)) (2024.2)\n",
      "Requirement already satisfied: tzdata>=2022.7 in /home/codespace/.local/lib/python3.12/site-packages (from pandas==2.2.2->-r requirements.txt (line 21)) (2024.2)\n",
      "Requirement already satisfied: numba>=0.54.1 in /home/codespace/.local/lib/python3.12/site-packages (from ranx==0.3.19->-r requirements.txt (line 23)) (0.60.0)\n",
      "Requirement already satisfied: tabulate in /home/codespace/.local/lib/python3.12/site-packages (from ranx==0.3.19->-r requirements.txt (line 23)) (0.9.0)\n",
      "Requirement already satisfied: ir-datasets in /home/codespace/.local/lib/python3.12/site-packages (from ranx==0.3.19->-r requirements.txt (line 23)) (0.5.8)\n",
      "Requirement already satisfied: rich in /home/codespace/.local/lib/python3.12/site-packages (from ranx==0.3.19->-r requirements.txt (line 23)) (13.9.2)\n",
      "Requirement already satisfied: orjson in /home/codespace/.local/lib/python3.12/site-packages (from ranx==0.3.19->-r requirements.txt (line 23)) (3.10.7)\n",
      "Requirement already satisfied: lz4 in /home/codespace/.local/lib/python3.12/site-packages (from ranx==0.3.19->-r requirements.txt (line 23)) (4.3.3)\n",
      "Requirement already satisfied: cbor2 in /home/codespace/.local/lib/python3.12/site-packages (from ranx==0.3.19->-r requirements.txt (line 23)) (5.6.4)\n",
      "Requirement already satisfied: seaborn in /home/codespace/.local/lib/python3.12/site-packages (from ranx==0.3.19->-r requirements.txt (line 23)) (0.13.2)\n",
      "Requirement already satisfied: fastparquet in /home/codespace/.local/lib/python3.12/site-packages (from ranx==0.3.19->-r requirements.txt (line 23)) (2024.5.0)\n",
      "Requirement already satisfied: idna>=2.8 in /home/codespace/.local/lib/python3.12/site-packages (from anyio<5,>=3.5.0->openai==1.30.1->-r requirements.txt (line 20)) (3.10)\n",
      "Requirement already satisfied: protobuf<6.0dev,>=5.26.1 in /home/codespace/.local/lib/python3.12/site-packages (from grpcio-tools>=1.41.0->qdrant-client==1.9.1->-r requirements.txt (line 17)) (5.28.2)\n",
      "Requirement already satisfied: setuptools in /home/codespace/.local/lib/python3.12/site-packages (from grpcio-tools>=1.41.0->qdrant-client==1.9.1->-r requirements.txt (line 17)) (75.1.0)\n",
      "Requirement already satisfied: certifi in /home/codespace/.local/lib/python3.12/site-packages (from httpx>=0.20.0->httpx[http2]>=0.20.0->qdrant-client==1.9.1->-r requirements.txt (line 17)) (2024.8.30)\n",
      "Requirement already satisfied: httpcore==1.* in /home/codespace/.local/lib/python3.12/site-packages (from httpx>=0.20.0->httpx[http2]>=0.20.0->qdrant-client==1.9.1->-r requirements.txt (line 17)) (1.0.6)\n",
      "Requirement already satisfied: h11<0.15,>=0.13 in /home/codespace/.local/lib/python3.12/site-packages (from httpcore==1.*->httpx>=0.20.0->httpx[http2]>=0.20.0->qdrant-client==1.9.1->-r requirements.txt (line 17)) (0.14.0)\n",
      "Requirement already satisfied: h2<5,>=3 in /home/codespace/.local/lib/python3.12/site-packages (from httpx[http2]>=0.20.0->qdrant-client==1.9.1->-r requirements.txt (line 17)) (4.1.0)\n",
      "Requirement already satisfied: llvmlite<0.44,>=0.43.0dev0 in /home/codespace/.local/lib/python3.12/site-packages (from numba>=0.54.1->ranx==0.3.19->-r requirements.txt (line 23)) (0.43.0)\n",
      "Requirement already satisfied: annotated-types>=0.6.0 in /home/codespace/.local/lib/python3.12/site-packages (from pydantic>=1.10.8->qdrant-client==1.9.1->-r requirements.txt (line 17)) (0.7.0)\n",
      "Requirement already satisfied: pydantic-core==2.23.4 in /home/codespace/.local/lib/python3.12/site-packages (from pydantic>=1.10.8->qdrant-client==1.9.1->-r requirements.txt (line 17)) (2.23.4)\n",
      "Requirement already satisfied: six>=1.5 in /home/codespace/.local/lib/python3.12/site-packages (from python-dateutil>=2.8.2->pandas==2.2.2->-r requirements.txt (line 21)) (1.16.0)\n",
      "Requirement already satisfied: charset-normalizer<4,>=2 in /home/codespace/.local/lib/python3.12/site-packages (from requests->transformers==4.40.2->-r requirements.txt (line 13)) (3.3.2)\n",
      "Requirement already satisfied: cramjam>=2.3 in /home/codespace/.local/lib/python3.12/site-packages (from fastparquet->ranx==0.3.19->-r requirements.txt (line 23)) (2.8.4)\n",
      "Requirement already satisfied: comm>=0.1.1 in /home/codespace/.local/lib/python3.12/site-packages (from ipykernel->jupyter==1.0.0->-r requirements.txt (line 11)) (0.2.2)\n",
      "Requirement already satisfied: debugpy>=1.6.5 in /home/codespace/.local/lib/python3.12/site-packages (from ipykernel->jupyter==1.0.0->-r requirements.txt (line 11)) (1.8.6)\n",
      "Requirement already satisfied: ipython>=7.23.1 in /home/codespace/.local/lib/python3.12/site-packages (from ipykernel->jupyter==1.0.0->-r requirements.txt (line 11)) (8.28.0)\n",
      "Requirement already satisfied: jupyter-client>=6.1.12 in /home/codespace/.local/lib/python3.12/site-packages (from ipykernel->jupyter==1.0.0->-r requirements.txt (line 11)) (8.6.3)\n",
      "Requirement already satisfied: jupyter-core!=5.0.*,>=4.12 in /home/codespace/.local/lib/python3.12/site-packages (from ipykernel->jupyter==1.0.0->-r requirements.txt (line 11)) (5.7.2)\n",
      "Requirement already satisfied: matplotlib-inline>=0.1 in /home/codespace/.local/lib/python3.12/site-packages (from ipykernel->jupyter==1.0.0->-r requirements.txt (line 11)) (0.1.7)\n",
      "Requirement already satisfied: nest-asyncio in /home/codespace/.local/lib/python3.12/site-packages (from ipykernel->jupyter==1.0.0->-r requirements.txt (line 11)) (1.6.0)\n",
      "Requirement already satisfied: psutil in /home/codespace/.local/lib/python3.12/site-packages (from ipykernel->jupyter==1.0.0->-r requirements.txt (line 11)) (6.0.0)\n",
      "Requirement already satisfied: pyzmq>=24 in /home/codespace/.local/lib/python3.12/site-packages (from ipykernel->jupyter==1.0.0->-r requirements.txt (line 11)) (26.2.0)\n",
      "Requirement already satisfied: tornado>=6.1 in /home/codespace/.local/lib/python3.12/site-packages (from ipykernel->jupyter==1.0.0->-r requirements.txt (line 11)) (6.4.1)\n",
      "Requirement already satisfied: traitlets>=5.4.0 in /home/codespace/.local/lib/python3.12/site-packages (from ipykernel->jupyter==1.0.0->-r requirements.txt (line 11)) (5.14.3)\n",
      "Requirement already satisfied: widgetsnbextension~=4.0.12 in /home/codespace/.local/lib/python3.12/site-packages (from ipywidgets->jupyter==1.0.0->-r requirements.txt (line 11)) (4.0.13)\n",
      "Requirement already satisfied: jupyterlab-widgets~=3.0.12 in /home/codespace/.local/lib/python3.12/site-packages (from ipywidgets->jupyter==1.0.0->-r requirements.txt (line 11)) (3.0.13)\n",
      "Requirement already satisfied: beautifulsoup4>=4.4.1 in /home/codespace/.local/lib/python3.12/site-packages (from ir-datasets->ranx==0.3.19->-r requirements.txt (line 23)) (4.12.3)\n",
      "Requirement already satisfied: inscriptis>=2.2.0 in /home/codespace/.local/lib/python3.12/site-packages (from ir-datasets->ranx==0.3.19->-r requirements.txt (line 23)) (2.5.0)\n",
      "Requirement already satisfied: lxml>=4.5.2 in /home/codespace/.local/lib/python3.12/site-packages (from ir-datasets->ranx==0.3.19->-r requirements.txt (line 23)) (5.3.0)\n",
      "Requirement already satisfied: trec-car-tools>=2.5.4 in /home/codespace/.local/lib/python3.12/site-packages (from ir-datasets->ranx==0.3.19->-r requirements.txt (line 23)) (2.6)\n",
      "Requirement already satisfied: warc3-wet>=0.2.3 in /home/codespace/.local/lib/python3.12/site-packages (from ir-datasets->ranx==0.3.19->-r requirements.txt (line 23)) (0.2.5)\n",
      "Requirement already satisfied: warc3-wet-clueweb09>=0.2.5 in /home/codespace/.local/lib/python3.12/site-packages (from ir-datasets->ranx==0.3.19->-r requirements.txt (line 23)) (0.2.5)\n",
      "Requirement already satisfied: zlib-state>=0.1.3 in /home/codespace/.local/lib/python3.12/site-packages (from ir-datasets->ranx==0.3.19->-r requirements.txt (line 23)) (0.1.9)\n",
      "Requirement already satisfied: ijson>=3.1.3 in /home/codespace/.local/lib/python3.12/site-packages (from ir-datasets->ranx==0.3.19->-r requirements.txt (line 23)) (3.3.0)\n",
      "Requirement already satisfied: unlzw3>=0.2.1 in /home/codespace/.local/lib/python3.12/site-packages (from ir-datasets->ranx==0.3.19->-r requirements.txt (line 23)) (0.2.2)\n",
      "Requirement already satisfied: MarkupSafe>=2.0 in /home/codespace/.local/lib/python3.12/site-packages (from jinja2->torch==2.3.0->-r requirements.txt (line 15)) (3.0.0)\n",
      "Requirement already satisfied: prompt-toolkit>=3.0.30 in /home/codespace/.local/lib/python3.12/site-packages (from jupyter-console->jupyter==1.0.0->-r requirements.txt (line 11)) (3.0.48)\n",
      "Requirement already satisfied: pygments in /home/codespace/.local/lib/python3.12/site-packages (from jupyter-console->jupyter==1.0.0->-r requirements.txt (line 11)) (2.18.0)\n",
      "Requirement already satisfied: bleach!=5.0.0 in /home/codespace/.local/lib/python3.12/site-packages (from nbconvert->jupyter==1.0.0->-r requirements.txt (line 11)) (6.1.0)\n",
      "Requirement already satisfied: defusedxml in /home/codespace/.local/lib/python3.12/site-packages (from nbconvert->jupyter==1.0.0->-r requirements.txt (line 11)) (0.7.1)\n",
      "Requirement already satisfied: jupyterlab-pygments in /home/codespace/.local/lib/python3.12/site-packages (from nbconvert->jupyter==1.0.0->-r requirements.txt (line 11)) (0.3.0)\n",
      "Requirement already satisfied: mistune<4,>=2.0.3 in /home/codespace/.local/lib/python3.12/site-packages (from nbconvert->jupyter==1.0.0->-r requirements.txt (line 11)) (3.0.2)\n",
      "Requirement already satisfied: nbclient>=0.5.0 in /home/codespace/.local/lib/python3.12/site-packages (from nbconvert->jupyter==1.0.0->-r requirements.txt (line 11)) (0.10.0)\n",
      "Requirement already satisfied: nbformat>=5.7 in /home/codespace/.local/lib/python3.12/site-packages (from nbconvert->jupyter==1.0.0->-r requirements.txt (line 11)) (5.10.4)\n",
      "Requirement already satisfied: pandocfilters>=1.4.1 in /home/codespace/.local/lib/python3.12/site-packages (from nbconvert->jupyter==1.0.0->-r requirements.txt (line 11)) (1.5.1)\n",
      "Requirement already satisfied: tinycss2 in /home/codespace/.local/lib/python3.12/site-packages (from nbconvert->jupyter==1.0.0->-r requirements.txt (line 11)) (1.3.0)\n",
      "Requirement already satisfied: jupyter-server<3,>=2.4.0 in /home/codespace/.local/lib/python3.12/site-packages (from notebook->jupyter==1.0.0->-r requirements.txt (line 11)) (2.14.2)\n",
      "Requirement already satisfied: jupyterlab-server<3,>=2.27.1 in /home/codespace/.local/lib/python3.12/site-packages (from notebook->jupyter==1.0.0->-r requirements.txt (line 11)) (2.27.3)\n",
      "Requirement already satisfied: jupyterlab<4.3,>=4.2.0 in /home/codespace/.local/lib/python3.12/site-packages (from notebook->jupyter==1.0.0->-r requirements.txt (line 11)) (4.2.5)\n",
      "Requirement already satisfied: notebook-shim<0.3,>=0.2 in /home/codespace/.local/lib/python3.12/site-packages (from notebook->jupyter==1.0.0->-r requirements.txt (line 11)) (0.2.4)\n",
      "Requirement already satisfied: qtpy>=2.4.0 in /home/codespace/.local/lib/python3.12/site-packages (from qtconsole->jupyter==1.0.0->-r requirements.txt (line 11)) (2.4.1)\n",
      "Requirement already satisfied: markdown-it-py>=2.2.0 in /home/codespace/.local/lib/python3.12/site-packages (from rich->ranx==0.3.19->-r requirements.txt (line 23)) (3.0.0)\n",
      "Requirement already satisfied: matplotlib!=3.6.1,>=3.4 in /home/codespace/.local/lib/python3.12/site-packages (from seaborn->ranx==0.3.19->-r requirements.txt (line 23)) (3.9.2)\n",
      "Requirement already satisfied: mpmath<1.4,>=1.1.0 in /home/codespace/.local/lib/python3.12/site-packages (from sympy->torch==2.3.0->-r requirements.txt (line 15)) (1.3.0)\n",
      "Requirement already satisfied: soupsieve>1.2 in /home/codespace/.local/lib/python3.12/site-packages (from beautifulsoup4>=4.4.1->ir-datasets->ranx==0.3.19->-r requirements.txt (line 23)) (2.6)\n",
      "Requirement already satisfied: webencodings in /home/codespace/.local/lib/python3.12/site-packages (from bleach!=5.0.0->nbconvert->jupyter==1.0.0->-r requirements.txt (line 11)) (0.5.1)\n",
      "Requirement already satisfied: hyperframe<7,>=6.0 in /home/codespace/.local/lib/python3.12/site-packages (from h2<5,>=3->httpx[http2]>=0.20.0->qdrant-client==1.9.1->-r requirements.txt (line 17)) (6.0.1)\n",
      "Requirement already satisfied: hpack<5,>=4.0 in /home/codespace/.local/lib/python3.12/site-packages (from h2<5,>=3->httpx[http2]>=0.20.0->qdrant-client==1.9.1->-r requirements.txt (line 17)) (4.0.0)\n",
      "Requirement already satisfied: decorator in /home/codespace/.local/lib/python3.12/site-packages (from ipython>=7.23.1->ipykernel->jupyter==1.0.0->-r requirements.txt (line 11)) (5.1.1)\n",
      "Requirement already satisfied: jedi>=0.16 in /home/codespace/.local/lib/python3.12/site-packages (from ipython>=7.23.1->ipykernel->jupyter==1.0.0->-r requirements.txt (line 11)) (0.19.1)\n",
      "Requirement already satisfied: stack-data in /home/codespace/.local/lib/python3.12/site-packages (from ipython>=7.23.1->ipykernel->jupyter==1.0.0->-r requirements.txt (line 11)) (0.6.3)\n",
      "Requirement already satisfied: pexpect>4.3 in /home/codespace/.local/lib/python3.12/site-packages (from ipython>=7.23.1->ipykernel->jupyter==1.0.0->-r requirements.txt (line 11)) (4.9.0)\n",
      "Requirement already satisfied: platformdirs>=2.5 in /home/codespace/.local/lib/python3.12/site-packages (from jupyter-core!=5.0.*,>=4.12->ipykernel->jupyter==1.0.0->-r requirements.txt (line 11)) (4.3.6)\n",
      "Requirement already satisfied: argon2-cffi>=21.1 in /home/codespace/.local/lib/python3.12/site-packages (from jupyter-server<3,>=2.4.0->notebook->jupyter==1.0.0->-r requirements.txt (line 11)) (23.1.0)\n",
      "Requirement already satisfied: jupyter-events>=0.9.0 in /home/codespace/.local/lib/python3.12/site-packages (from jupyter-server<3,>=2.4.0->notebook->jupyter==1.0.0->-r requirements.txt (line 11)) (0.10.0)\n",
      "Requirement already satisfied: jupyter-server-terminals>=0.4.4 in /home/codespace/.local/lib/python3.12/site-packages (from jupyter-server<3,>=2.4.0->notebook->jupyter==1.0.0->-r requirements.txt (line 11)) (0.5.3)\n",
      "Requirement already satisfied: overrides>=5.0 in /home/codespace/.local/lib/python3.12/site-packages (from jupyter-server<3,>=2.4.0->notebook->jupyter==1.0.0->-r requirements.txt (line 11)) (7.7.0)\n",
      "Requirement already satisfied: prometheus-client>=0.9 in /home/codespace/.local/lib/python3.12/site-packages (from jupyter-server<3,>=2.4.0->notebook->jupyter==1.0.0->-r requirements.txt (line 11)) (0.21.0)\n",
      "Requirement already satisfied: send2trash>=1.8.2 in /home/codespace/.local/lib/python3.12/site-packages (from jupyter-server<3,>=2.4.0->notebook->jupyter==1.0.0->-r requirements.txt (line 11)) (1.8.3)\n",
      "Requirement already satisfied: terminado>=0.8.3 in /home/codespace/.local/lib/python3.12/site-packages (from jupyter-server<3,>=2.4.0->notebook->jupyter==1.0.0->-r requirements.txt (line 11)) (0.18.1)\n",
      "Requirement already satisfied: websocket-client>=1.7 in /home/codespace/.local/lib/python3.12/site-packages (from jupyter-server<3,>=2.4.0->notebook->jupyter==1.0.0->-r requirements.txt (line 11)) (1.8.0)\n",
      "Requirement already satisfied: async-lru>=1.0.0 in /home/codespace/.local/lib/python3.12/site-packages (from jupyterlab<4.3,>=4.2.0->notebook->jupyter==1.0.0->-r requirements.txt (line 11)) (2.0.4)\n",
      "Requirement already satisfied: jupyter-lsp>=2.0.0 in /home/codespace/.local/lib/python3.12/site-packages (from jupyterlab<4.3,>=4.2.0->notebook->jupyter==1.0.0->-r requirements.txt (line 11)) (2.2.5)\n",
      "Requirement already satisfied: babel>=2.10 in /home/codespace/.local/lib/python3.12/site-packages (from jupyterlab-server<3,>=2.27.1->notebook->jupyter==1.0.0->-r requirements.txt (line 11)) (2.16.0)\n",
      "Requirement already satisfied: json5>=0.9.0 in /home/codespace/.local/lib/python3.12/site-packages (from jupyterlab-server<3,>=2.27.1->notebook->jupyter==1.0.0->-r requirements.txt (line 11)) (0.9.25)\n",
      "Requirement already satisfied: jsonschema>=4.18.0 in /home/codespace/.local/lib/python3.12/site-packages (from jupyterlab-server<3,>=2.27.1->notebook->jupyter==1.0.0->-r requirements.txt (line 11)) (4.23.0)\n",
      "Requirement already satisfied: mdurl~=0.1 in /home/codespace/.local/lib/python3.12/site-packages (from markdown-it-py>=2.2.0->rich->ranx==0.3.19->-r requirements.txt (line 23)) (0.1.2)\n",
      "Requirement already satisfied: contourpy>=1.0.1 in /home/codespace/.local/lib/python3.12/site-packages (from matplotlib!=3.6.1,>=3.4->seaborn->ranx==0.3.19->-r requirements.txt (line 23)) (1.3.0)\n",
      "Requirement already satisfied: cycler>=0.10 in /home/codespace/.local/lib/python3.12/site-packages (from matplotlib!=3.6.1,>=3.4->seaborn->ranx==0.3.19->-r requirements.txt (line 23)) (0.12.1)\n",
      "Requirement already satisfied: fonttools>=4.22.0 in /home/codespace/.local/lib/python3.12/site-packages (from matplotlib!=3.6.1,>=3.4->seaborn->ranx==0.3.19->-r requirements.txt (line 23)) (4.54.1)\n",
      "Requirement already satisfied: kiwisolver>=1.3.1 in /home/codespace/.local/lib/python3.12/site-packages (from matplotlib!=3.6.1,>=3.4->seaborn->ranx==0.3.19->-r requirements.txt (line 23)) (1.4.7)\n",
      "Requirement already satisfied: pyparsing>=2.3.1 in /home/codespace/.local/lib/python3.12/site-packages (from matplotlib!=3.6.1,>=3.4->seaborn->ranx==0.3.19->-r requirements.txt (line 23)) (3.1.4)\n",
      "Requirement already satisfied: fastjsonschema>=2.15 in /home/codespace/.local/lib/python3.12/site-packages (from nbformat>=5.7->nbconvert->jupyter==1.0.0->-r requirements.txt (line 11)) (2.20.0)\n",
      "Requirement already satisfied: wcwidth in /home/codespace/.local/lib/python3.12/site-packages (from prompt-toolkit>=3.0.30->jupyter-console->jupyter==1.0.0->-r requirements.txt (line 11)) (0.2.13)\n",
      "Requirement already satisfied: cbor>=1.0.0 in /home/codespace/.local/lib/python3.12/site-packages (from trec-car-tools>=2.5.4->ir-datasets->ranx==0.3.19->-r requirements.txt (line 23)) (1.0.0)\n",
      "Requirement already satisfied: argon2-cffi-bindings in /home/codespace/.local/lib/python3.12/site-packages (from argon2-cffi>=21.1->jupyter-server<3,>=2.4.0->notebook->jupyter==1.0.0->-r requirements.txt (line 11)) (21.2.0)\n",
      "Requirement already satisfied: parso<0.9.0,>=0.8.3 in /home/codespace/.local/lib/python3.12/site-packages (from jedi>=0.16->ipython>=7.23.1->ipykernel->jupyter==1.0.0->-r requirements.txt (line 11)) (0.8.4)\n",
      "Requirement already satisfied: attrs>=22.2.0 in /home/codespace/.local/lib/python3.12/site-packages (from jsonschema>=4.18.0->jupyterlab-server<3,>=2.27.1->notebook->jupyter==1.0.0->-r requirements.txt (line 11)) (24.2.0)\n",
      "Requirement already satisfied: jsonschema-specifications>=2023.03.6 in /home/codespace/.local/lib/python3.12/site-packages (from jsonschema>=4.18.0->jupyterlab-server<3,>=2.27.1->notebook->jupyter==1.0.0->-r requirements.txt (line 11)) (2024.10.1)\n",
      "Requirement already satisfied: referencing>=0.28.4 in /home/codespace/.local/lib/python3.12/site-packages (from jsonschema>=4.18.0->jupyterlab-server<3,>=2.27.1->notebook->jupyter==1.0.0->-r requirements.txt (line 11)) (0.35.1)\n",
      "Requirement already satisfied: rpds-py>=0.7.1 in /home/codespace/.local/lib/python3.12/site-packages (from jsonschema>=4.18.0->jupyterlab-server<3,>=2.27.1->notebook->jupyter==1.0.0->-r requirements.txt (line 11)) (0.20.0)\n",
      "Requirement already satisfied: python-json-logger>=2.0.4 in /home/codespace/.local/lib/python3.12/site-packages (from jupyter-events>=0.9.0->jupyter-server<3,>=2.4.0->notebook->jupyter==1.0.0->-r requirements.txt (line 11)) (2.0.7)\n",
      "Requirement already satisfied: rfc3339-validator in /home/codespace/.local/lib/python3.12/site-packages (from jupyter-events>=0.9.0->jupyter-server<3,>=2.4.0->notebook->jupyter==1.0.0->-r requirements.txt (line 11)) (0.1.4)\n",
      "Requirement already satisfied: rfc3986-validator>=0.1.1 in /home/codespace/.local/lib/python3.12/site-packages (from jupyter-events>=0.9.0->jupyter-server<3,>=2.4.0->notebook->jupyter==1.0.0->-r requirements.txt (line 11)) (0.1.1)\n",
      "Requirement already satisfied: ptyprocess>=0.5 in /home/codespace/.local/lib/python3.12/site-packages (from pexpect>4.3->ipython>=7.23.1->ipykernel->jupyter==1.0.0->-r requirements.txt (line 11)) (0.7.0)\n",
      "Requirement already satisfied: executing>=1.2.0 in /home/codespace/.local/lib/python3.12/site-packages (from stack-data->ipython>=7.23.1->ipykernel->jupyter==1.0.0->-r requirements.txt (line 11)) (2.1.0)\n",
      "Requirement already satisfied: asttokens>=2.1.0 in /home/codespace/.local/lib/python3.12/site-packages (from stack-data->ipython>=7.23.1->ipykernel->jupyter==1.0.0->-r requirements.txt (line 11)) (2.4.1)\n",
      "Requirement already satisfied: pure-eval in /home/codespace/.local/lib/python3.12/site-packages (from stack-data->ipython>=7.23.1->ipykernel->jupyter==1.0.0->-r requirements.txt (line 11)) (0.2.3)\n",
      "Requirement already satisfied: fqdn in /home/codespace/.local/lib/python3.12/site-packages (from jsonschema[format-nongpl]>=4.18.0->jupyter-events>=0.9.0->jupyter-server<3,>=2.4.0->notebook->jupyter==1.0.0->-r requirements.txt (line 11)) (1.5.1)\n",
      "Requirement already satisfied: isoduration in /home/codespace/.local/lib/python3.12/site-packages (from jsonschema[format-nongpl]>=4.18.0->jupyter-events>=0.9.0->jupyter-server<3,>=2.4.0->notebook->jupyter==1.0.0->-r requirements.txt (line 11)) (20.11.0)\n",
      "Requirement already satisfied: jsonpointer>1.13 in /home/codespace/.local/lib/python3.12/site-packages (from jsonschema[format-nongpl]>=4.18.0->jupyter-events>=0.9.0->jupyter-server<3,>=2.4.0->notebook->jupyter==1.0.0->-r requirements.txt (line 11)) (3.0.0)\n",
      "Requirement already satisfied: uri-template in /home/codespace/.local/lib/python3.12/site-packages (from jsonschema[format-nongpl]>=4.18.0->jupyter-events>=0.9.0->jupyter-server<3,>=2.4.0->notebook->jupyter==1.0.0->-r requirements.txt (line 11)) (1.3.0)\n",
      "Requirement already satisfied: webcolors>=24.6.0 in /home/codespace/.local/lib/python3.12/site-packages (from jsonschema[format-nongpl]>=4.18.0->jupyter-events>=0.9.0->jupyter-server<3,>=2.4.0->notebook->jupyter==1.0.0->-r requirements.txt (line 11)) (24.8.0)\n",
      "Requirement already satisfied: cffi>=1.0.1 in /home/codespace/.local/lib/python3.12/site-packages (from argon2-cffi-bindings->argon2-cffi>=21.1->jupyter-server<3,>=2.4.0->notebook->jupyter==1.0.0->-r requirements.txt (line 11)) (1.17.1)\n",
      "Requirement already satisfied: pycparser in /home/codespace/.local/lib/python3.12/site-packages (from cffi>=1.0.1->argon2-cffi-bindings->argon2-cffi>=21.1->jupyter-server<3,>=2.4.0->notebook->jupyter==1.0.0->-r requirements.txt (line 11)) (2.22)\n",
      "Requirement already satisfied: arrow>=0.15.0 in /home/codespace/.local/lib/python3.12/site-packages (from isoduration->jsonschema[format-nongpl]>=4.18.0->jupyter-events>=0.9.0->jupyter-server<3,>=2.4.0->notebook->jupyter==1.0.0->-r requirements.txt (line 11)) (1.3.0)\n",
      "Requirement already satisfied: types-python-dateutil>=2.8.10 in /home/codespace/.local/lib/python3.12/site-packages (from arrow>=0.15.0->isoduration->jsonschema[format-nongpl]>=4.18.0->jupyter-events>=0.9.0->jupyter-server<3,>=2.4.0->notebook->jupyter==1.0.0->-r requirements.txt (line 11)) (2.9.0.20241003)\n",
      "Note: you may need to restart the kernel to use updated packages.\n"
     ]
    }
   ],
   "source": [
    "pip install -r requirements.txt"
   ]
  },
  {
   "cell_type": "code",
   "execution_count": 3,
   "id": "6eb3dcf2-4003-414c-a3c4-1e155098be80",
   "metadata": {
    "height": 47
   },
   "outputs": [],
   "source": [
    "import warnings\n",
    "warnings.filterwarnings('ignore')"
   ]
  },
  {
   "cell_type": "code",
   "execution_count": 1,
   "id": "e79d2302-3983-4e72-a6b0-262d63fd57ad",
   "metadata": {
    "height": 64
   },
   "outputs": [],
   "source": [
    "training_data = [\n",
    "    \"walker walked a long walk\",\n",
    "]"
   ]
  },
  {
   "cell_type": "markdown",
   "id": "837b197c-ec6a-4b74-8cb8-46428c704e55",
   "metadata": {},
   "source": [
    "## BPE - Byte-Pair Encoding"
   ]
  },
  {
   "cell_type": "markdown",
   "id": "b971d57d",
   "metadata": {},
   "source": [
    "**Byte-Pair Encoding (BPE)** is a data compression technique that is commonly used in natural language processing (NLP) for tokenizing text, particularly in transformer models like GPT, BERT, and others. BPE helps to manage the trade-off between word-based and character-based representations by breaking down words into subword units, enabling the model to handle rare and unknown words efficiently.\n",
    "\n",
    "**How BPE works:**  \n",
    "**1. Initial Step (Character Level Representation):**\n",
    "Every word is initially represented as a sequence of characters, treating each character as an individual token.\n",
    "\n",
    "```Example: \"low\" → [ 'l', 'o', 'w' ]```\n",
    "\n",
    "**2. Merging Frequent Pairs:**\n",
    "The algorithm iteratively merges the most frequent adjacent pairs of tokens (initially, characters). After each merge, a new token is created, which represents the merged pair. This process is repeated a predefined number of times or until a certain number of tokens are created.\n",
    "\n",
    "**3. Subword Units:**\n",
    "Over time, BPE produces subword units that capture common word patterns, such as prefixes, suffixes, and common root parts of words. For example, in English, words like \"playing,\" \"plays,\" and \"played\" may share common subwords like \"play\".\n",
    "\n",
    "**4. Handling Unknown Words:**\n",
    "Since words are broken into subword units, even unknown or rare words can be handled effectively. The model can split such words into smaller, familiar subword units, ensuring that the system can process previously unseen words without a problem.\n",
    "\n",
    "\n",
    "**Benefits of BPE:** \n",
    "\n",
    "**- Efficient Vocabulary Size:**\n",
    "By merging frequently occurring pairs, BPE generates a compact vocabulary of subword units, allowing the model to capture word structure without needing to store a large number of full words.\n",
    "\n",
    "**- Handles Rare Words:**\n",
    "It allows the model to handle rare or out-of-vocabulary words by breaking them into smaller, meaningful subword units.\n",
    "\n",
    "**- Language Flexibility:**\n",
    "It is useful for morphologically rich languages, where words can have many different forms.\n",
    "\n",
    "In summary, BPE is a widely-used tokenization method in NLP that strikes a balance between word-based and character-based approaches, providing both flexibility and efficiency in handling language data.\n",
    "\n"
   ]
  },
  {
   "cell_type": "code",
   "execution_count": 2,
   "id": "8d5379f6-be97-4dcf-98a3-060d88d4d3c6",
   "metadata": {
    "height": 166
   },
   "outputs": [],
   "source": [
    "from tokenizers.trainers import BpeTrainer\n",
    "from tokenizers.models import BPE\n",
    "from tokenizers import Tokenizer\n",
    "from tokenizers.pre_tokenizers import Whitespace\n",
    "\n",
    "bpe_tokenizer = Tokenizer(BPE())\n",
    "bpe_tokenizer.pre_tokenizer = Whitespace()\n",
    "\n",
    "bpe_trainer = BpeTrainer(vocab_size=14)"
   ]
  },
  {
   "cell_type": "markdown",
   "id": "9d2ab7e1-85dc-4e87-a412-ebe11e78c2ad",
   "metadata": {},
   "source": [
    "<p style=\"background-color:#fff6ff; padding:15px; border-width:3px; border-color:#efe6ef; border-style:solid; border-radius:6px\"> 💻 &nbsp; <b>Access <code>requirements.txt</code> and <code>helper.py</code> files:</b> 1) click on the <em>\"File\"</em> option on the top menu of the notebook and then 2) click on <em>\"Open\"</em>. For more help, please see the <em>\"Appendix - Tips and Help\"</em> Lesson.</p>"
   ]
  },
  {
   "cell_type": "code",
   "execution_count": 3,
   "id": "ea4289b9-1761-4dce-8faf-b4be05dab0b2",
   "metadata": {
    "height": 30
   },
   "outputs": [
    {
     "name": "stdout",
     "output_type": "stream",
     "text": [
      "\n",
      "\n",
      "\n"
     ]
    }
   ],
   "source": [
    "bpe_tokenizer.train_from_iterator(training_data, bpe_trainer)"
   ]
  },
  {
   "cell_type": "code",
   "execution_count": 4,
   "id": "9fd44f86-2aab-46f1-99ec-ea73eac92c7d",
   "metadata": {
    "height": 30
   },
   "outputs": [
    {
     "data": {
      "text/plain": [
       "{'wal': 11,\n",
       " 'd': 1,\n",
       " 'l': 5,\n",
       " 'g': 3,\n",
       " 'w': 9,\n",
       " 'walk': 12,\n",
       " 'o': 7,\n",
       " 'k': 4,\n",
       " 'walke': 13,\n",
       " 'n': 6,\n",
       " 'r': 8,\n",
       " 'al': 10,\n",
       " 'a': 0,\n",
       " 'e': 2}"
      ]
     },
     "execution_count": 4,
     "metadata": {},
     "output_type": "execute_result"
    }
   ],
   "source": [
    "bpe_tokenizer.get_vocab()"
   ]
  },
  {
   "cell_type": "code",
   "execution_count": 5,
   "id": "74912810-c4ef-4373-86d6-77a095ef01ec",
   "metadata": {
    "height": 30
   },
   "outputs": [
    {
     "data": {
      "text/plain": [
       "['walke', 'r', 'walke', 'd', 'a', 'l', 'o', 'n', 'g', 'walk']"
      ]
     },
     "execution_count": 5,
     "metadata": {},
     "output_type": "execute_result"
    }
   ],
   "source": [
    "bpe_tokenizer.encode(\"walker walked a long walk\").tokens"
   ]
  },
  {
   "cell_type": "code",
   "execution_count": 6,
   "id": "671646d9-3403-4ef7-ae20-72af7fbdad96",
   "metadata": {
    "height": 30
   },
   "outputs": [
    {
     "data": {
      "text/plain": [
       "[9, 5, 4]"
      ]
     },
     "execution_count": 6,
     "metadata": {},
     "output_type": "execute_result"
    }
   ],
   "source": [
    "bpe_tokenizer.encode(\"wlk\").ids"
   ]
  },
  {
   "cell_type": "code",
   "execution_count": 7,
   "id": "22aced61-6e22-4ebe-bd35-60509e744aa2",
   "metadata": {
    "height": 30
   },
   "outputs": [
    {
     "data": {
      "text/plain": [
       "['w', 'l', 'k']"
      ]
     },
     "execution_count": 7,
     "metadata": {},
     "output_type": "execute_result"
    }
   ],
   "source": [
    "bpe_tokenizer.encode(\"wlk\").tokens"
   ]
  },
  {
   "cell_type": "code",
   "execution_count": 8,
   "id": "1e02ebb5-e9e2-4613-948a-655775249ea6",
   "metadata": {
    "height": 30
   },
   "outputs": [
    {
     "data": {
      "text/plain": [
       "['e', 'walke', 'd']"
      ]
     },
     "execution_count": 8,
     "metadata": {},
     "output_type": "execute_result"
    }
   ],
   "source": [
    "bpe_tokenizer.encode(\"she walked\").tokens"
   ]
  },
  {
   "cell_type": "markdown",
   "id": "7a1fc751-1074-4c56-a68f-ae6e6491c227",
   "metadata": {},
   "source": [
    "## WordPiece"
   ]
  },
  {
   "cell_type": "code",
   "execution_count": 9,
   "id": "0bbdde63-90d6-493c-8316-96869c366a99",
   "metadata": {
    "height": 166
   },
   "outputs": [],
   "source": [
    "from real_wordpiece.trainer import RealWordPieceTrainer\n",
    "from tokenizers.models import WordPiece\n",
    "\n",
    "real_wordpiece_tokenizer = Tokenizer(WordPiece())\n",
    "real_wordpiece_tokenizer.pre_tokenizer = Whitespace()\n",
    "\n",
    "real_wordpiece_trainer = RealWordPieceTrainer(\n",
    "    vocab_size=27,\n",
    ")"
   ]
  },
  {
   "cell_type": "code",
   "execution_count": 10,
   "id": "daef2453-f14d-4d77-9f33-b9285bd71920",
   "metadata": {
    "height": 81
   },
   "outputs": [
    {
     "data": {
      "text/plain": [
       "{'long': 21,\n",
       " '##l': 2,\n",
       " '##e': 4,\n",
       " '##o': 9,\n",
       " 'k': 12,\n",
       " 'r': 14,\n",
       " '##ng': 20,\n",
       " '##n': 10,\n",
       " 'o': 16,\n",
       " '##lk': 25,\n",
       " 'e': 13,\n",
       " '##d': 8,\n",
       " 'n': 17,\n",
       " '##a': 1,\n",
       " 'l': 6,\n",
       " '##ed': 23,\n",
       " 'wa': 24,\n",
       " 'g': 18,\n",
       " '##g': 11,\n",
       " '##er': 22,\n",
       " 'w': 0,\n",
       " '##r': 7,\n",
       " 'walk': 26,\n",
       " 'a': 5,\n",
       " 'lo': 19,\n",
       " '##k': 3,\n",
       " 'd': 15}"
      ]
     },
     "execution_count": 10,
     "metadata": {},
     "output_type": "execute_result"
    }
   ],
   "source": [
    "real_wordpiece_trainer.train_tokenizer(\n",
    "    training_data, real_wordpiece_tokenizer\n",
    ")\n",
    "real_wordpiece_tokenizer.get_vocab()"
   ]
  },
  {
   "cell_type": "code",
   "execution_count": 11,
   "id": "29cc85bd-53c6-41b6-8fba-062ba9f82661",
   "metadata": {
    "height": 30
   },
   "outputs": [
    {
     "data": {
      "text/plain": [
       "['walk', '##er', 'walk', '##ed', 'a', 'long', 'walk']"
      ]
     },
     "execution_count": 11,
     "metadata": {},
     "output_type": "execute_result"
    }
   ],
   "source": [
    "real_wordpiece_tokenizer.encode(\"walker walked a long walk\").tokens"
   ]
  },
  {
   "cell_type": "code",
   "execution_count": 12,
   "id": "455e1f41-e3a1-4366-bfac-44e6ac191aba",
   "metadata": {
    "height": 30
   },
   "outputs": [
    {
     "data": {
      "text/plain": [
       "['w', '##lk']"
      ]
     },
     "execution_count": 12,
     "metadata": {},
     "output_type": "execute_result"
    }
   ],
   "source": [
    "real_wordpiece_tokenizer.encode(\"wlk\").tokens"
   ]
  },
  {
   "cell_type": "markdown",
   "id": "15b04960-d9ba-4037-aeab-fe02f1af6d74",
   "metadata": {},
   "source": [
    "**Unknown Characters:**\n",
    "The following line will produce an error because it contains unknown characters. Please uncomment the line and run it to see the error."
   ]
  },
  {
   "cell_type": "code",
   "execution_count": 16,
   "id": "0bc73f36-ce2c-45d6-b2e6-834e7b7fe24d",
   "metadata": {
    "height": 30
   },
   "outputs": [
    {
     "ename": "Exception",
     "evalue": "WordPiece error: Missing [UNK] token from the vocabulary",
     "output_type": "error",
     "traceback": [
      "\u001b[0;31m---------------------------------------------------------------------------\u001b[0m",
      "\u001b[0;31mException\u001b[0m                                 Traceback (most recent call last)",
      "Cell \u001b[0;32mIn[16], line 1\u001b[0m\n\u001b[0;32m----> 1\u001b[0m \u001b[43mreal_wordpiece_tokenizer\u001b[49m\u001b[38;5;241;43m.\u001b[39;49m\u001b[43mencode\u001b[49m\u001b[43m(\u001b[49m\u001b[38;5;124;43m\"\u001b[39;49m\u001b[38;5;124;43mshe walked\u001b[39;49m\u001b[38;5;124;43m\"\u001b[39;49m\u001b[43m)\u001b[49m\u001b[38;5;241m.\u001b[39mtokens\n",
      "\u001b[0;31mException\u001b[0m: WordPiece error: Missing [UNK] token from the vocabulary"
     ]
    }
   ],
   "source": [
    "#real_wordpiece_tokenizer.encode(\"she walked\").tokens"
   ]
  },
  {
   "cell_type": "markdown",
   "id": "14d662e3-29fc-456c-9b75-1a35fdeaf330",
   "metadata": {},
   "source": [
    "## HuggingFace WordPiece and special tokens"
   ]
  },
  {
   "cell_type": "code",
   "execution_count": 13,
   "id": "b6c9f6ec-7612-4fc0-9de5-fe9af772e8b4",
   "metadata": {
    "height": 200
   },
   "outputs": [],
   "source": [
    "from tokenizers.trainers import WordPieceTrainer\n",
    "\n",
    "unk_token = \"[UNK]\"\n",
    "\n",
    "wordpiece_model = WordPiece(unk_token=unk_token)\n",
    "wordpiece_tokenizer = Tokenizer(wordpiece_model)\n",
    "wordpiece_tokenizer.pre_tokenizer = Whitespace()\n",
    "wordpiece_trainer = WordPieceTrainer(\n",
    "    vocab_size=28,\n",
    "    special_tokens=[unk_token]\n",
    ")"
   ]
  },
  {
   "cell_type": "code",
   "execution_count": 14,
   "id": "5e99b0fe-8723-4193-aec4-7af50f4d296d",
   "metadata": {
    "height": 98
   },
   "outputs": [
    {
     "name": "stdout",
     "output_type": "stream",
     "text": [
      "\n",
      "\n",
      "\n"
     ]
    },
    {
     "data": {
      "text/plain": [
       "{'##r': 16,\n",
       " '##ng': 25,\n",
       " '##e': 14,\n",
       " '##g': 19,\n",
       " 'walk': 22,\n",
       " 'walked': 26,\n",
       " 'a': 1,\n",
       " 'e': 3,\n",
       " 'n': 7,\n",
       " '##k': 13,\n",
       " 'lo': 24,\n",
       " 'l': 6,\n",
       " 'o': 8,\n",
       " '##d': 15,\n",
       " '[UNK]': 0,\n",
       " 'walker': 27,\n",
       " 'walke': 23,\n",
       " '##l': 12,\n",
       " 'k': 5,\n",
       " 'd': 2,\n",
       " '##a': 11,\n",
       " 'w': 10,\n",
       " 'r': 9,\n",
       " '##o': 17,\n",
       " '##n': 18,\n",
       " 'g': 4,\n",
       " 'wa': 20,\n",
       " '##lk': 21}"
      ]
     },
     "execution_count": 14,
     "metadata": {},
     "output_type": "execute_result"
    }
   ],
   "source": [
    "wordpiece_tokenizer.train_from_iterator(\n",
    "    training_data, \n",
    "    wordpiece_trainer\n",
    ")\n",
    "wordpiece_tokenizer.get_vocab()"
   ]
  },
  {
   "cell_type": "code",
   "execution_count": 15,
   "id": "594722c8-24b0-496b-9859-943071bc7b78",
   "metadata": {
    "height": 30
   },
   "outputs": [
    {
     "data": {
      "text/plain": [
       "['walker', 'walked', 'a', 'lo', '##ng', 'walk']"
      ]
     },
     "execution_count": 15,
     "metadata": {},
     "output_type": "execute_result"
    }
   ],
   "source": [
    "wordpiece_tokenizer.encode(\"walker walked a long walk\").tokens"
   ]
  },
  {
   "cell_type": "code",
   "execution_count": 16,
   "id": "0abca87e-db68-498e-b137-d00a77f034b3",
   "metadata": {
    "height": 30
   },
   "outputs": [
    {
     "data": {
      "text/plain": [
       "['w', '##lk']"
      ]
     },
     "execution_count": 16,
     "metadata": {},
     "output_type": "execute_result"
    }
   ],
   "source": [
    "wordpiece_tokenizer.encode(\"wlk\").tokens"
   ]
  },
  {
   "cell_type": "code",
   "execution_count": 17,
   "id": "ccd22755-1115-4d9a-8ddb-3f3b2128941c",
   "metadata": {
    "height": 30
   },
   "outputs": [
    {
     "data": {
      "text/plain": [
       "['[UNK]', 'walked']"
      ]
     },
     "execution_count": 17,
     "metadata": {},
     "output_type": "execute_result"
    }
   ],
   "source": [
    "wordpiece_tokenizer.encode(\"she walked\").tokens"
   ]
  },
  {
   "cell_type": "markdown",
   "id": "d1863790-b1f7-40a3-9fcd-cc4263530f7b",
   "metadata": {},
   "source": [
    "## Unigram"
   ]
  },
  {
   "cell_type": "code",
   "execution_count": 18,
   "id": "963521e9-bab7-4021-b21a-4775f38c994b",
   "metadata": {
    "height": 234
   },
   "outputs": [
    {
     "name": "stdout",
     "output_type": "stream",
     "text": [
      "\n"
     ]
    },
    {
     "data": {
      "text/plain": [
       "{'a': 6,\n",
       " 'e': 10,\n",
       " 'n': 11,\n",
       " 'walk': 4,\n",
       " 'w': 3,\n",
       " 'l': 5,\n",
       " 'r': 7,\n",
       " 'k': 2,\n",
       " 'd': 12,\n",
       " 'walke': 1,\n",
       " '[UNK]': 0,\n",
       " 'o': 8,\n",
       " 'g': 9}"
      ]
     },
     "execution_count": 18,
     "metadata": {},
     "output_type": "execute_result"
    },
    {
     "name": "stdout",
     "output_type": "stream",
     "text": [
      "\n"
     ]
    }
   ],
   "source": [
    "from tokenizers.trainers import UnigramTrainer\n",
    "from tokenizers.models import Unigram\n",
    "\n",
    "unigram_tokenizer = Tokenizer(Unigram())\n",
    "unigram_tokenizer.pre_tokenizer = Whitespace()\n",
    "unigram_trainer = UnigramTrainer(\n",
    "    vocab_size=14, \n",
    "    special_tokens=[unk_token],\n",
    "    unk_token=unk_token,\n",
    ")\n",
    "\n",
    "unigram_tokenizer.train_from_iterator(training_data, unigram_trainer)\n",
    "unigram_tokenizer.get_vocab()"
   ]
  },
  {
   "cell_type": "code",
   "execution_count": 19,
   "id": "7500af15-5de5-498b-b098-6d1554783257",
   "metadata": {
    "height": 30
   },
   "outputs": [
    {
     "data": {
      "text/plain": [
       "['walke', 'r', 'walke', 'd', 'a', 'l', 'o', 'n', 'g', 'walk']"
      ]
     },
     "execution_count": 19,
     "metadata": {},
     "output_type": "execute_result"
    }
   ],
   "source": [
    "unigram_tokenizer.encode(\"walker walked a long walk\").tokens"
   ]
  },
  {
   "cell_type": "code",
   "execution_count": 20,
   "id": "93ffe74e-968f-4b37-ab73-5686c18a8af7",
   "metadata": {
    "height": 30
   },
   "outputs": [
    {
     "data": {
      "text/plain": [
       "['w', 'l', 'k']"
      ]
     },
     "execution_count": 20,
     "metadata": {},
     "output_type": "execute_result"
    }
   ],
   "source": [
    "unigram_tokenizer.encode(\"wlk\").tokens"
   ]
  },
  {
   "cell_type": "code",
   "execution_count": 21,
   "id": "ee843700-b778-4af3-901c-53d420b12f51",
   "metadata": {
    "height": 30
   },
   "outputs": [
    {
     "data": {
      "text/plain": [
       "['sh', 'e', 'walke', 'd']"
      ]
     },
     "execution_count": 21,
     "metadata": {},
     "output_type": "execute_result"
    }
   ],
   "source": [
    "unigram_tokenizer.encode(\"she walked\").tokens"
   ]
  },
  {
   "cell_type": "code",
   "execution_count": 22,
   "id": "720a62bb-7713-4e88-acb1-621e1da38203",
   "metadata": {
    "height": 30
   },
   "outputs": [
    {
     "data": {
      "text/plain": [
       "[0, 10, 1, 12]"
      ]
     },
     "execution_count": 22,
     "metadata": {},
     "output_type": "execute_result"
    }
   ],
   "source": [
    "unigram_tokenizer.encode(\"she walked\").ids"
   ]
  },
  {
   "cell_type": "code",
   "execution_count": null,
   "id": "e9a3e6cc-4787-4922-a0f9-e98ac5eac5b9",
   "metadata": {
    "height": 30
   },
   "outputs": [],
   "source": []
  },
  {
   "cell_type": "code",
   "execution_count": null,
   "id": "7db97e61-b26b-4628-bebd-94290afe3d45",
   "metadata": {
    "height": 30
   },
   "outputs": [],
   "source": []
  },
  {
   "cell_type": "code",
   "execution_count": null,
   "id": "687670ec-9c81-4305-bb7e-377de2d50afa",
   "metadata": {
    "height": 30
   },
   "outputs": [],
   "source": []
  },
  {
   "cell_type": "code",
   "execution_count": null,
   "id": "b3cfba8a-6d99-4d12-b786-2a0a5fc9f0d4",
   "metadata": {
    "height": 30
   },
   "outputs": [],
   "source": []
  },
  {
   "cell_type": "code",
   "execution_count": null,
   "id": "942a92bc-ff62-40de-8564-9ae78fee93e7",
   "metadata": {
    "height": 30
   },
   "outputs": [],
   "source": []
  },
  {
   "cell_type": "code",
   "execution_count": null,
   "id": "5abef761-87c5-4402-9cd8-092f6a4e1e2a",
   "metadata": {
    "height": 30
   },
   "outputs": [],
   "source": []
  },
  {
   "cell_type": "code",
   "execution_count": null,
   "id": "a0b8b6fc-ccac-4e52-96a7-a3fe610b62c8",
   "metadata": {
    "height": 30
   },
   "outputs": [],
   "source": []
  }
 ],
 "metadata": {
  "kernelspec": {
   "display_name": "Python 3",
   "language": "python",
   "name": "python3"
  },
  "language_info": {
   "codemirror_mode": {
    "name": "ipython",
    "version": 3
   },
   "file_extension": ".py",
   "mimetype": "text/x-python",
   "name": "python",
   "nbconvert_exporter": "python",
   "pygments_lexer": "ipython3",
   "version": "3.12.1"
  }
 },
 "nbformat": 4,
 "nbformat_minor": 5
}
